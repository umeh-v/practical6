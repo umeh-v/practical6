{
  "cells": [
    {
      "cell_type": "markdown",
      "metadata": {},
      "source": [
        "# Train Iris classification model\n",
        "\n",
        "Here we're going to create a classification model for the IRIS dataset.\n",
        "The first thing we want to do is import the packages we need.\n",
        "Three common python packages for scientific computing are numpy, scikit-learn, and pandas.\n",
        "Pandas is for loadign and managing data as tables, Numpy is for faster mathematical functions, and scikit-learn provdes us with some implementations of machine learning algorithms.\n",
        "You can find information about them at their respective documentaiton sites.\n",
        "- https://numpy.org/doc/stable/user/index.html#user\n",
        "- https://pandas.pydata.org/docs/user_guide/10min.html\n",
        "- https://scikit-learn.org/stable/user_guide.html\n",
        "\n",
        "The first thing we need to do is import the packages we need.\n",
        "**You can add the import for pandas yourself - import it as 'pd'**\n",
        "\n",
        "Once that's done continue you can run the cell with the play button or the run all button pictured in the practical document.\n",
        "Start working your way through the notebook running the cells as you go."
      ]
    },
    {
      "cell_type": "code",
      "execution_count": null,
      "metadata": {},
      "outputs": [],
      "source": [
        "import pandas as pd\n",
        "import numpy as np\n",
        "import matplotlib.pyplot as plt\n",
        "from sklearn.tree import DecisionTreeClassifier\n",
        "from sklearn.model_selection import train_test_split\n",
        "from sklearn.metrics import roc_auc_score\n",
        "from sklearn.metrics import roc_curve"
      ]
    },
    {
      "cell_type": "markdown",
      "metadata": {},
      "source": [
        "## First load the data\n",
        "The first thing we need to do is load the data we're going to work with and have a quick look at a summary of it.\n",
        "Pandas gives us a function to read CSV files.\n",
        "**You might need update the location of the dataset to point to the correct place you saved it to!**\n",
        "\"../\" means \"back one directory from where we are now\"\n",
        "\"./\" means \"from where we are now\""
      ]
    },
    {
      "cell_type": "code",
      "execution_count": null,
      "metadata": {},
      "outputs": [],
      "source": [
        "df = pd.read_csv('../iris/iris.csv')\n",
        "print(df)"
      ]
    },
    {
      "cell_type": "markdown",
      "metadata": {},
      "source": [
        "## Split the data\n",
        "Next we need to split the dataset into two parts, out inputs and expected outputs.\n",
        "Usually these are referred to as 'X' and 'Y'.\n",
        "Then we want to take a look at how many of each class there is before finally splitting the dataset into a train and test set.\n",
        "\n",
        "It's important to keep some data away from the machine learning model for testing later - testing it on data it's already seen wouldn't be fair!\n",
        "Scikit-learn gives us a helpfull function for this.\n",
        "We're going to use it and tell it to keep 20% of the data back.\n",
        "If you look at the table for example you'll see the first third of the dataset is all the same class, so if we had just taken the first 20% of rows we'd only have one class in the test set!\n",
        "To help avoid this train_test_split will choose the rows for the 20% at random - which is important to keep it fair and avoid that problem."
      ]
    },
    {
      "cell_type": "code",
      "execution_count": null,
      "metadata": {},
      "outputs": [],
      "source": [
        "#Pick out the columns we want to use as inputs\n",
        "X = df[['sepalLength', 'sepalWidth']].values\n",
        "Y = df['type'].values\n",
        "## Now lets take a look at  how many rows we have\n",
        "len(X)\n",
        "\n",
        "# And how many different types in each class, we should have 50 of each\n",
        "print(np.unique(Y, return_counts=True))\n",
        "\n",
        "#Split the data and keep 20% back for testing later\n",
        "X_train, X_test, Y_train, Y_test = train_test_split(X, Y, test_size=0.20)\n",
        "print(\"Train length\", len(X_train))\n",
        "print(\"Test length\", len(X_test))"
      ]
    },
    {
      "cell_type": "markdown",
      "metadata": {},
      "source": [
        "## Train model\n",
        "Now we fit the machine learning model we're going to use to our X and Y data."
      ]
    },
    {
      "cell_type": "code",
      "execution_count": null,
      "metadata": {},
      "outputs": [],
      "source": [
        "model = DecisionTreeClassifier().fit(X_train, Y_train)"
      ]
    },
    {
      "cell_type": "markdown",
      "metadata": {},
      "source": [
        "## Evaluate model\n",
        "Now what we have a completed model we need to see how accurate it is.\n",
        "The simplest way to do this is to just have it predict the output for the test data and see how many it got correct and return that as as percentage value between 0-1."
      ]
    },
    {
      "cell_type": "code",
      "execution_count": null,
      "metadata": {},
      "outputs": [],
      "source": [
        "testPredictions = model.predict(X_test)\n",
        "acc = np.average(testPredictions == Y_test)\n",
        "print(\"Accuracy\", acc)"
      ]
    },
    {
      "cell_type": "markdown",
      "metadata": {},
      "source": [
        "### More thourough evaluation\n",
        "A more thourough evaluation method is to look at the receiver operating characteristic (ROC) curve and area under the ROC curve (AUC).\n",
        "The ROC curve lets us look at how the model performs under different \"thresholds\".\n",
        "The threshold we set lets us look at the potential trade off for the true positive rate and the fale positive rate.\n",
        "Ideally we want the ROC curve to end up as close to the upper left corner (high true posite rate, low false positive rate) as we can get it.\n",
        "Similarly we want the area under the curve to be as high as possible.\n",
        "Like accuracy AUC is a percentage in the range 0-1."
      ]
    },
    {
      "cell_type": "code",
      "execution_count": null,
      "metadata": {},
      "outputs": [],
      "source": [
        "Y_scores = model.predict_proba(X_test)"
      ]
    },
    {
      "cell_type": "code",
      "execution_count": null,
      "metadata": {},
      "outputs": [],
      "source": [
        "#Create a figure\n",
        "fig = plt.figure(figsize=(6, 4))\n",
        "#Set labels\n",
        "plt.xlabel('False Positive Rate')\n",
        "plt.ylabel('True Positive Rate')\n",
        "plt.title('ROC Curve')\n",
        "#Plot the 50% line\n",
        "plt.plot([0, 1], [0, 1], 'k--')\n",
        "# plot ROC curve for the different classes\n",
        "for idx, className in enumerate(df['type'].unique()):\n",
        "\tfpr, tpr, thresholds = roc_curve(Y_test == className, Y_scores[:,idx])\n",
        "\tseriesName = \"ROC for \" + className\n",
        "\t# Plot the FPR and TPR achieved by our model\n",
        "\tplt.plot(fpr, tpr, label=seriesName)\n",
        "#Add a legend\n",
        "plt.legend()\n",
        "\n",
        "#Compute the AUC\n",
        "auc = roc_auc_score(Y_test,Y_scores, multi_class='ovr')\n",
        "print('AUC', auc)"
      ]
    },
    {
      "cell_type": "markdown",
      "metadata": {},
      "source": [
        "## Done\n",
        "\n",
        "That's our first experiment done and we now have a model we're happy with. Go back to the practical document to continue."
      ]
    }
  ],
  "metadata": {
    "interpreter": {
      "hash": "f2b2cd046deda8eabef1e765a11d0ec9aa9bd1d31d56ce79c815a38c323e14ec"
    },
    "kernel_info": {
      "name": "python38-azureml"
    },
    "kernelspec": {
      "display_name": "Python 3.9.5 ('base')",
      "language": "python",
      "name": "python3"
    },
    "language_info": {
      "codemirror_mode": {
        "name": "ipython",
        "version": 3
      },
      "file_extension": ".py",
      "mimetype": "text/x-python",
      "name": "python",
      "nbconvert_exporter": "python",
      "pygments_lexer": "ipython3",
      "version": "3.8.17"
    },
    "nteract": {
      "version": "nteract-front-end@1.0.0"
    }
  },
  "nbformat": 4,
  "nbformat_minor": 0
}
